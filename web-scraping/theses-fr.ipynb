{
 "cells": [
  {
   "cell_type": "code",
   "execution_count": 1,
   "id": "fb0b1fbc-d260-42b2-9aac-923d2eb6a63d",
   "metadata": {
    "executionCancelledAt": null,
    "executionTime": 8366,
    "lastExecutedAt": 1731613684360,
    "lastExecutedByKernel": "e6185df0-e22c-48c7-8ff3-57d97c863e69",
    "lastScheduledRunId": null,
    "lastSuccessfullyExecutedCode": "!pip install selenium\n!pip install webdriver_manager",
    "outputsMetadata": {
     "0": {
      "height": 616,
      "type": "stream"
     }
    }
   },
   "outputs": [
    {
     "name": "stdout",
     "output_type": "stream",
     "text": [
      "Requirement already satisfied: selenium in e:\\dev\\wpy64-31180\\python-3.11.8.amd64\\lib\\site-packages (4.26.1)\n",
      "Requirement already satisfied: urllib3<3,>=1.26 in e:\\dev\\wpy64-31180\\python-3.11.8.amd64\\lib\\site-packages (from urllib3[socks]<3,>=1.26->selenium) (2.0.3)\n",
      "Requirement already satisfied: trio~=0.17 in e:\\dev\\wpy64-31180\\python-3.11.8.amd64\\lib\\site-packages (from selenium) (0.24.0)\n",
      "Requirement already satisfied: trio-websocket~=0.9 in e:\\dev\\wpy64-31180\\python-3.11.8.amd64\\lib\\site-packages (from selenium) (0.11.1)\n",
      "Requirement already satisfied: certifi>=2021.10.8 in e:\\dev\\wpy64-31180\\python-3.11.8.amd64\\lib\\site-packages (from selenium) (2023.11.17)\n",
      "Requirement already satisfied: typing_extensions~=4.9 in e:\\dev\\wpy64-31180\\python-3.11.8.amd64\\lib\\site-packages (from selenium) (4.9.0)\n",
      "Requirement already satisfied: websocket-client~=1.8 in e:\\dev\\wpy64-31180\\python-3.11.8.amd64\\lib\\site-packages (from selenium) (1.8.0)\n",
      "Requirement already satisfied: attrs>=20.1.0 in e:\\dev\\wpy64-31180\\python-3.11.8.amd64\\lib\\site-packages (from trio~=0.17->selenium) (23.1.0)\n",
      "Requirement already satisfied: sortedcontainers in e:\\dev\\wpy64-31180\\python-3.11.8.amd64\\lib\\site-packages (from trio~=0.17->selenium) (2.4.0)\n",
      "Requirement already satisfied: idna in e:\\dev\\wpy64-31180\\python-3.11.8.amd64\\lib\\site-packages (from trio~=0.17->selenium) (3.4)\n",
      "Requirement already satisfied: outcome in e:\\dev\\wpy64-31180\\python-3.11.8.amd64\\lib\\site-packages (from trio~=0.17->selenium) (1.3.0.post0)\n",
      "Requirement already satisfied: sniffio>=1.3.0 in e:\\dev\\wpy64-31180\\python-3.11.8.amd64\\lib\\site-packages (from trio~=0.17->selenium) (1.3.0)\n",
      "Requirement already satisfied: cffi>=1.14 in e:\\dev\\wpy64-31180\\python-3.11.8.amd64\\lib\\site-packages (from trio~=0.17->selenium) (1.16.0)\n",
      "Requirement already satisfied: wsproto>=0.14 in e:\\dev\\wpy64-31180\\python-3.11.8.amd64\\lib\\site-packages (from trio-websocket~=0.9->selenium) (1.2.0)\n",
      "Requirement already satisfied: pysocks!=1.5.7,<2.0,>=1.5.6 in e:\\dev\\wpy64-31180\\python-3.11.8.amd64\\lib\\site-packages (from urllib3[socks]<3,>=1.26->selenium) (1.7.1)\n",
      "Requirement already satisfied: pycparser in e:\\dev\\wpy64-31180\\python-3.11.8.amd64\\lib\\site-packages (from cffi>=1.14->trio~=0.17->selenium) (2.21)\n",
      "Requirement already satisfied: h11<1,>=0.9.0 in e:\\dev\\wpy64-31180\\python-3.11.8.amd64\\lib\\site-packages (from wsproto>=0.14->trio-websocket~=0.9->selenium) (0.14.0)\n"
     ]
    },
    {
     "name": "stderr",
     "output_type": "stream",
     "text": [
      "\n",
      "[notice] A new release of pip is available: 24.0 -> 24.3.1\n",
      "[notice] To update, run: python.exe -m pip install --upgrade pip\n"
     ]
    },
    {
     "name": "stdout",
     "output_type": "stream",
     "text": [
      "Requirement already satisfied: webdriver_manager in e:\\dev\\wpy64-31180\\python-3.11.8.amd64\\lib\\site-packages (4.0.2)\n",
      "Requirement already satisfied: requests in e:\\dev\\wpy64-31180\\python-3.11.8.amd64\\lib\\site-packages (from webdriver_manager) (2.31.0)\n",
      "Requirement already satisfied: python-dotenv in e:\\dev\\wpy64-31180\\python-3.11.8.amd64\\lib\\site-packages (from webdriver_manager) (1.0.0)\n",
      "Requirement already satisfied: packaging in e:\\dev\\wpy64-31180\\python-3.11.8.amd64\\lib\\site-packages (from webdriver_manager) (22.0)\n",
      "Requirement already satisfied: charset-normalizer<4,>=2 in e:\\dev\\wpy64-31180\\python-3.11.8.amd64\\lib\\site-packages (from requests->webdriver_manager) (3.2.0)\n",
      "Requirement already satisfied: idna<4,>=2.5 in e:\\dev\\wpy64-31180\\python-3.11.8.amd64\\lib\\site-packages (from requests->webdriver_manager) (3.4)\n",
      "Requirement already satisfied: urllib3<3,>=1.21.1 in e:\\dev\\wpy64-31180\\python-3.11.8.amd64\\lib\\site-packages (from requests->webdriver_manager) (2.0.3)\n",
      "Requirement already satisfied: certifi>=2017.4.17 in e:\\dev\\wpy64-31180\\python-3.11.8.amd64\\lib\\site-packages (from requests->webdriver_manager) (2023.11.17)\n"
     ]
    },
    {
     "name": "stderr",
     "output_type": "stream",
     "text": [
      "\n",
      "[notice] A new release of pip is available: 24.0 -> 24.3.1\n",
      "[notice] To update, run: python.exe -m pip install --upgrade pip\n"
     ]
    }
   ],
   "source": [
    "#on install les lib de selenium\n",
    "!pip install selenium\n",
    "!pip install webdriver_manager"
   ]
  },
  {
   "cell_type": "code",
   "execution_count": 2,
   "id": "8ce458a5-955d-48a8-a586-a3dafe9f243e",
   "metadata": {
    "executionCancelledAt": null,
    "executionTime": 50,
    "lastExecutedAt": 1731613856927,
    "lastExecutedByKernel": "e6185df0-e22c-48c7-8ff3-57d97c863e69",
    "lastScheduledRunId": null,
    "lastSuccessfullyExecutedCode": "from selenium import webdriver #Webdriver de Selenium qui permet de contrôler un navigateur\nfrom selenium.webdriver.chrome.service import Service as ChromeService\nfrom selenium.webdriver.common.by import By #Permet d'accéder aux différents élements de la page web\nfrom selenium.webdriver.support.ui import WebDriverWait\nfrom selenium.common.exceptions import *\nfrom selenium.webdriver.support import expected_conditions as EC\nfrom webdriver_manager.chrome import ChromeDriverManager #Assure la gestion du webdriver de Chrome\n\nimport tempfile\nimport time\nimport datetime\n\nimport warnings\nwarnings.filterwarnings(\"ignore\")"
   },
   "outputs": [],
   "source": [
    "#tout ce qu'il faut pour bien travailler avec selenium\n",
    "from selenium import webdriver #Webdriver de Selenium qui permet de contrôler un navigateur\n",
    "from selenium.webdriver.chrome.service import Service as ChromeService\n",
    "from selenium.webdriver.common.by import By #Permet d'accéder aux différents élements de la page web\n",
    "from selenium.webdriver.support.ui import WebDriverWait\n",
    "from selenium.common.exceptions import *\n",
    "from selenium.webdriver.support import expected_conditions as EC\n",
    "from webdriver_manager.chrome import ChromeDriverManager #Assure la gestion du webdriver de Chrome\n",
    "\n",
    "import tempfile\n",
    "import time\n",
    "import datetime\n",
    "\n",
    "import warnings\n",
    "warnings.filterwarnings(\"ignore\")\n",
    "\n",
    "#parametres interractif permet de voir ou pas les actions dans le navigateur\n",
    "_interractif = False"
   ]
  },
  {
   "cell_type": "code",
   "execution_count": 3,
   "id": "c03ec310-19f1-4359-9125-8c95d855d7b6",
   "metadata": {
    "executionCancelledAt": null,
    "executionTime": 807,
    "lastExecutedAt": 1731614159188,
    "lastExecutedByKernel": "e6185df0-e22c-48c7-8ff3-57d97c863e69",
    "lastScheduledRunId": null,
    "lastSuccessfullyExecutedCode": "chrome_options = webdriver.ChromeOptions()\nchrome_options.add_argument('--no-sandbox')\nchrome_options.add_argument('--headless')\nchrome_options.add_argument('--disable-dev-shm-usage')\n\nservice = ChromeService(executable_path=ChromeDriverManager().install())\ndriver = webdriver.Chrome(service=service,options=chrome_options)  #Initialisation du driver \n_timeout = 10\n_type_located = By.XPATH\n\ndriver.get('https://theses.fr/') #Accès aux articles de la veille\ntry:\n    elem = WebDriverWait(driver, _timeout).until(EC.presence_of_element_located((_type_located, '//body')))\nexcept Exception as e:\n    print('loadNavPage:Error detected {}'.format(e))\n\ntry:\n    _test = WebDriverWait(driver, _timeout).until(EC.presence_of_element_located((_type_located, 'input[id=\"searchbar\"]')))\nexcept:\n    print('Impossible de trouver l element')\n    \ndriver.quit()"
   },
   "outputs": [
    {
     "name": "stdout",
     "output_type": "stream",
     "text": [
      "Theses.fr\n"
     ]
    }
   ],
   "source": [
    "def verif_page(_driver,_pattern='//body'):\n",
    "    \"\"\" verifie que la page est bien chargée\n",
    "\n",
    "    Args:\n",
    "        _driver (webdriver): le webdrive selenium de chargé\n",
    "        _pattern (string): l element à chercher dans la page\n",
    "    \"\"\"\n",
    "    try:\n",
    "        elem = WebDriverWait(_driver, 10).until(EC.presence_of_element_located((By.XPATH, _pattern)))\n",
    "    except Exception as e:\n",
    "        print('Erreur {}'.format(e))\n",
    "\n",
    "\n",
    "\n",
    "#on va configurer le navigateur avant son lancement\n",
    "if _interractif:\n",
    "    #configuration en mode interractif\n",
    "    driver = webdriver.Chrome()\n",
    "else:\n",
    "    #configuration en mode headless\n",
    "    chrome_options = webdriver.ChromeOptions()\n",
    "    chrome_options.add_argument('--no-sandbox')\n",
    "    chrome_options.add_argument('--headless')\n",
    "    chrome_options.add_argument('--disable-dev-shm-usage')    \n",
    "    service = ChromeService(executable_path=ChromeDriverManager().install())\n",
    "    driver = webdriver.Chrome(service=service,options=chrome_options)  #Initialisation du driver \n",
    "#on charge la page d'accueil de these\n",
    "driver.get('https://theses.fr/') #Accès à la page du site\n",
    "#on va verifier d avoir le retour de la page\n",
    "verif_page(driver,_pattern='//body')\n",
    "#on affiche par exemple le titre de la page web pour verifier d etre au bon endroit\n",
    "print(driver.title)\n"
   ]
  },
  {
   "cell_type": "code",
   "execution_count": 4,
   "id": "167386c9-fd61-4306-8064-493e9bc97159",
   "metadata": {},
   "outputs": [],
   "source": [
    "#on passe en plein ecran pour avoir toutes les options d'affichage du site\n",
    "driver.fullscreen_window()\n",
    "#on va taper dans la barre de recherche la recherche représentation\n",
    "driver.find_element(By.XPATH,'//input[@id=\"searchbar\"]').send_keys(\"représentation\" )\n",
    "driver.find_element(By.XPATH,'//i[@id=\"magnifying-glass\"]').click()\n",
    "#on va verifier d avoir le retour de la page\n",
    "verif_page(driver,_pattern='//div[@class=\"result-pagination\"]')\n",
    "\n",
    "#on affiche 50 page, on click sur le chevron\n",
    "driver.find_element(By.XPATH,'//div[@class=\"result-pagination\"]/div[@class=\"first-bar-element\"]//i[contains(@class,\"mdi-chevron-down\")]').click()\n",
    "#on choisi 50\n",
    "_btn_javascript = driver.find_element(By.XPATH,'//div[@class=\"v-overlay-container\"]//div[@class=\"v-overlay__content v-select__content\"]//div[@class=\"v-list-item-title\" and contains(text(),\"50\")]/../..')\n",
    "driver.execute_script('arguments[0].click();',_btn_javascript)"
   ]
  },
  {
   "cell_type": "code",
   "execution_count": 5,
   "id": "9b6bb3f0-1bf0-4277-948a-3200ce788295",
   "metadata": {},
   "outputs": [],
   "source": [
    "#on recupére les 50 url\n",
    "#on va verifier d avoir le retour de la page\n",
    "verif_page(driver,_pattern='//a[@class=\"first-half\"]')\n",
    "\n",
    "_list_a = driver.find_elements(By.XPATH,'//a[@class=\"first-half\"]')\n",
    "_tab_url = []\n",
    "for _elemt in _list_a:\n",
    "    #on click sur la page web de la these\n",
    "    _tab_url.append(_elemt.get_attribute(\"href\"))\n"
   ]
  },
  {
   "cell_type": "code",
   "execution_count": 6,
   "id": "8577d593-0482-41d4-b2e3-b60ce0d50f8a",
   "metadata": {},
   "outputs": [
    {
     "name": "stdout",
     "output_type": "stream",
     "text": [
      "############# 0 #####################\n",
      "Auteur / Autrice :  Cyril Labbé\n",
      "Direction :  Julien Berestycki, Amaury Lambert\n",
      "Type :  Thèse de doctorat\n",
      "Discipline(s) :  Mathématiques\n",
      "Date :  Soutenance en 2013\n",
      "Etablissement(s) :  Paris 6\n",
      "############# 1 #####################\n",
      "Auteur / Autrice :  Marie Aguirre\n",
      "Direction :  Anne Reboul, Olivier Mascaro\n",
      "Type :  Thèse de doctorat\n",
      "Discipline(s) :  Sciences cognitives\n",
      "Date :  Soutenance le 08/07/2021\n",
      "Etablissement(s) :  Lyon\n",
      "Ecole(s) doctorale(s) :  École doctorale Neurosciences et Cognition (NSCo) (Lyon)\n",
      "Partenaire(s) de recherche :  Laboratoire : Laboratoire Langage Cerveau Cognition (Bron)\n",
      "établissement opérateur d'inscription : Université Claude Bernard (Lyon ; 1971-....)\n",
      "Jury :  Président / Présidente : Yves Rossetti\n",
      "Examinateurs / Examinatrices : Anne Reboul, Olivier Mascaro, Rana Esseily, Nausicaa Pouscoulous, Pierre Jacob\n",
      "Rapporteurs / Rapporteuses : Rana Esseily, Nausicaa Pouscoulous\n",
      "############# 2 #####################\n",
      "Auteur / Autrice :  Claire Monnier\n",
      "Direction :  Jean-Bernard Paturet\n",
      "Type :  Thèse de doctorat\n",
      "Discipline(s) :  Sciences de l'éducation\n",
      "Date :  Soutenance en 2008\n",
      "Etablissement(s) :  Montpellier 3\n"
     ]
    }
   ],
   "source": [
    "#pour chaque url on va récupérer les informations que l'on souhaite, ici je ne vais en prendre que 4\n",
    "for _url in _tab_url[0:3]:\n",
    "    driver.get(_url)\n",
    "    #on va verifier d avoir le retour de la page\n",
    "    verif_page(driver,_pattern='//table[@title=\"meta-données de la thèse\"]')\n",
    "    _list_info = driver.find_elements(By.XPATH,'//table[@title=\"meta-données de la thèse\"]/tbody/tr')\n",
    "    print ('############# {} #####################'.format(_tab_url.index(_url)))\n",
    "    for _detail_info in _list_info:\n",
    "        print(_detail_info.text)\n"
   ]
  },
  {
   "cell_type": "code",
   "execution_count": 7,
   "id": "98c0e698-d680-4d6a-b54b-239921e66224",
   "metadata": {},
   "outputs": [],
   "source": [
    "#on ferme proprement le navigateur, la ram c'est important\n",
    "driver.quit()"
   ]
  },
  {
   "cell_type": "code",
   "execution_count": null,
   "id": "d47ecb91-b91f-4654-a918-4d7cab2f5c89",
   "metadata": {},
   "outputs": [],
   "source": []
  }
 ],
 "metadata": {
  "editor": "DataLab",
  "kernelspec": {
   "display_name": "Python 3 (ipykernel)",
   "language": "python",
   "name": "python3"
  },
  "language_info": {
   "codemirror_mode": {
    "name": "ipython",
    "version": 3
   },
   "file_extension": ".py",
   "mimetype": "text/x-python",
   "name": "python",
   "nbconvert_exporter": "python",
   "pygments_lexer": "ipython3",
   "version": "3.11.8"
  }
 },
 "nbformat": 4,
 "nbformat_minor": 5
}
